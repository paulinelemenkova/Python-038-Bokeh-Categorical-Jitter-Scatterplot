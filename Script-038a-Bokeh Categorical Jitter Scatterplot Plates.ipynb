{
 "cells": [
  {
   "cell_type": "code",
   "execution_count": 11,
   "metadata": {},
   "outputs": [],
   "source": [
    "import pandas as pd\n",
    "from matplotlib import pyplot as plt\n",
    "from bokeh.io import show, output_notebook\n",
    "from bokeh.plotting import figure\n",
    "from bokeh.transform import jitter\n",
    "from bokeh.models import ColumnDataSource\n",
    "from bokeh.palettes import Spectral6\n",
    "import os\n",
    "\n",
    "os.chdir('/Users/pauline/Documents/Python')\n",
    "df = pd.read_csv(\"Tab-Morph.csv\")\n",
    "df = df.melt(id_vars=['profile'], \n",
    "              value_vars=['plate_phill', 'plate_pacif', 'plate_maria', 'plate_carol'],\n",
    "              var_name='plates', value_name='Mean')\n",
    "\n",
    "DAYS = ['plate_phill', 'plate_pacif', 'plate_maria', 'plate_carol']\n",
    "\n",
    "source = ColumnDataSource(df)\n",
    "\n",
    "p = figure(plot_width=800, plot_height=300, y_range=DAYS, x_axis_type='datetime', \n",
    "           title=\"Commits by Time of Day (US/Central) 2012—2016\")\n",
    "\n",
    "p.circle(x='Mean', y=jitter('plates', width=0.6, range=p.y_range),  source=source, alpha=0.3)\n",
    "\n",
    "p.xaxis[0].formatter.days = ['%Hh']\n",
    "p.x_range.range_padding = 0\n",
    "p.ygrid.grid_line_color = None\n",
    "\n",
    "show(p)"
   ]
  },
  {
   "cell_type": "code",
   "execution_count": null,
   "metadata": {},
   "outputs": [],
   "source": []
  },
  {
   "cell_type": "code",
   "execution_count": null,
   "metadata": {},
   "outputs": [],
   "source": []
  }
 ],
 "metadata": {
  "kernelspec": {
   "display_name": "Python 3",
   "language": "python",
   "name": "python3"
  },
  "language_info": {
   "codemirror_mode": {
    "name": "ipython",
    "version": 3
   },
   "file_extension": ".py",
   "mimetype": "text/x-python",
   "name": "python",
   "nbconvert_exporter": "python",
   "pygments_lexer": "ipython3",
   "version": "3.7.2"
  }
 },
 "nbformat": 4,
 "nbformat_minor": 2
}
