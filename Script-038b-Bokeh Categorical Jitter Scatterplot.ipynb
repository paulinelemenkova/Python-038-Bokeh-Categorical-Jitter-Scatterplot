{
 "cells": [
  {
   "cell_type": "code",
   "execution_count": 1,
   "metadata": {},
   "outputs": [],
   "source": [
    "#!/usr/bin/env python\n",
    "# coding: utf-8\n",
    "import pandas as pd\n",
    "from matplotlib import pyplot as plt\n",
    "from bokeh.io import show, output_notebook\n",
    "from bokeh.plotting import figure\n",
    "from bokeh.transform import jitter\n",
    "from bokeh.models import ColumnDataSource\n",
    "from bokeh.transform import factor_cmap\n",
    "from bokeh.palettes import Spectral6\n",
    "import os\n",
    "\n",
    "os.chdir('/Users/pauline/Documents/Python')\n",
    "df = pd.read_csv(\"Tab-Bathy.csv\")\n",
    "\n",
    "# defining loop sequence\n",
    "profiles_nrs = list(map(lambda x: x, range(25)))\n",
    "profiles_list = []\n",
    "for i in profiles_nrs:\n",
    "    profiles_list.append('profile{}'.format(i + 1))\n",
    "    \n",
    "df = df.melt(id_vars = ['observ'], \n",
    "             value_vars = profiles_list,\n",
    "             var_name='profile', value_name='Depth')\n",
    "\n",
    "profile = profiles_list\n",
    "\n",
    "source = ColumnDataSource(df)\n",
    "\n",
    "p = figure(plot_width=800, plot_height=300, y_range=profile, \n",
    "           title=\"Categorical jitter plot of range of the bathymetric values,\\n Mariana Trench, 25 profiles\")\n",
    "\n",
    "p.circle(x='Depth', y=jitter('profile', width=1.2, range=p.y_range), source=source, alpha=0.3)\n",
    "\n",
    "show(p)"
   ]
  },
  {
   "cell_type": "code",
   "execution_count": null,
   "metadata": {},
   "outputs": [],
   "source": []
  }
 ],
 "metadata": {
  "kernelspec": {
   "display_name": "Python 3",
   "language": "python",
   "name": "python3"
  },
  "language_info": {
   "codemirror_mode": {
    "name": "ipython",
    "version": 3
   },
   "file_extension": ".py",
   "mimetype": "text/x-python",
   "name": "python",
   "nbconvert_exporter": "python",
   "pygments_lexer": "ipython3",
   "version": "3.7.3"
  }
 },
 "nbformat": 4,
 "nbformat_minor": 2
}
