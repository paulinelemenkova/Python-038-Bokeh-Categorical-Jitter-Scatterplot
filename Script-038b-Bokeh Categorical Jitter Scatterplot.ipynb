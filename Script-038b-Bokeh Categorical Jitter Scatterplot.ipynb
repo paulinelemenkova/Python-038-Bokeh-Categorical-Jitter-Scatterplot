{
 "cells": [
  {
   "cell_type": "code",
   "execution_count": 71,
   "metadata": {},
   "outputs": [],
   "source": [
    "import pandas as pd\n",
    "from matplotlib import pyplot as plt\n",
    "from bokeh.io import show, output_notebook\n",
    "from bokeh.plotting import figure\n",
    "from bokeh.transform import jitter\n",
    "from bokeh.models import ColumnDataSource\n",
    "from bokeh.transform import factor_cmap\n",
    "from bokeh.palettes import Spectral6\n",
    "import os\n",
    "\n",
    "os.chdir('/Users/pauline/Documents/Python')\n",
    "df = pd.read_csv(\"Tab-Bathy.csv\")\n",
    "df = df.melt(id_vars=['observ'], \n",
    "              value_vars=[\"profile1\", \"profile2\", \"profile3\", \"profile4\",\"profile5\",\n",
    "            \"profile6\", \"profile7\",\"profile8\", \"profile9\", \"profile10\",\n",
    "            \"profile11\", \"profile12\", \"profile13\", \"profile14\", \"profile15\",\n",
    "            \"profile16\", \"profile17\", \"profile18\", \"profile19\", \"profile20\",\n",
    "            \"profile21\", \"profile22\", \"profile23\", \"profile24\", \"profile25\"],\n",
    "             var_name='profile', value_name='Depth')\n",
    "\n",
    "profile = [\"profile1\", \"profile2\", \"profile3\", \"profile4\",\"profile5\",\n",
    "            \"profile6\", \"profile7\",\"profile8\", \"profile9\", \"profile10\",\n",
    "            \"profile11\", \"profile12\", \"profile13\", \"profile14\", \"profile15\",\n",
    "            \"profile16\", \"profile17\", \"profile18\", \"profile19\", \"profile20\",\n",
    "            \"profile21\", \"profile22\", \"profile23\", \"profile24\", \"profile25\"]\n",
    "\n",
    "source = ColumnDataSource(df)\n",
    "\n",
    "#profile_cmap = factor_cmap('profile', palette=Spectral6,\n",
    " #                          factors=sorted(df.profile.unique()), start=1, end=25)\n",
    "\n",
    "p = figure(plot_width=800, plot_height=300, y_range=profile, \n",
    "           title=\"Categorical jitter plot of range of the bathymetric values,\\n Mariana Trench, 25 profiles\")\n",
    "\n",
    "#p.circle(x='Depth', y=jitter('profile', width=1.2, range=p.y_range), fill_color=profile_cmap, \n",
    "#         source=source, alpha=0.3)\n",
    "p.circle(x='Depth', y=jitter('profile', width=1.2, range=p.y_range), source=source, alpha=0.3)\n",
    "\n",
    "show(p)"
   ]
  }
 ],
 "metadata": {
  "kernelspec": {
   "display_name": "Python 3",
   "language": "python",
   "name": "python3"
  },
  "language_info": {
   "codemirror_mode": {
    "name": "ipython",
    "version": 3
   },
   "file_extension": ".py",
   "mimetype": "text/x-python",
   "name": "python",
   "nbconvert_exporter": "python",
   "pygments_lexer": "ipython3",
   "version": "3.7.2"
  }
 },
 "nbformat": 4,
 "nbformat_minor": 2
}
